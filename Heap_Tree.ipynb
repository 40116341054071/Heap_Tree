{
  "nbformat": 4,
  "nbformat_minor": 0,
  "metadata": {
    "colab": {
      "provenance": [],
      "mount_file_id": "16KU9vHo0QXRhh658YFD4_CkeqQUyzlpz",
      "authorship_tag": "ABX9TyOaA0QMlu7r1dzTLTm7DDRm",
      "include_colab_link": true
    },
    "kernelspec": {
      "name": "python3",
      "display_name": "Python 3"
    },
    "language_info": {
      "name": "python"
    }
  },
  "cells": [
    {
      "cell_type": "markdown",
      "metadata": {
        "id": "view-in-github",
        "colab_type": "text"
      },
      "source": [
        "<a href=\"https://colab.research.google.com/github/40116341054071/Heap_Tree/blob/main/Heap_Tree.ipynb\" target=\"_parent\"><img src=\"https://colab.research.google.com/assets/colab-badge.svg\" alt=\"Open In Colab\"/></a>"
      ]
    },
    {
      "cell_type": "code",
      "execution_count": 1,
      "metadata": {
        "id": "GlORs1U3cZb5",
        "outputId": "f115445e-340a-409c-9ebc-738eb3a621c5",
        "colab": {
          "base_uri": "https://localhost:8080/"
        }
      },
      "outputs": [
        {
          "output_type": "stream",
          "name": "stdout",
          "text": [
            "[3, 4, 6, 1, 5, 2, 7]\n"
          ]
        }
      ],
      "source": [
        "def heapify (A,k):\n",
        "     left=2*k+1\n",
        "     right=2*k+2\n",
        "     if left<len(A) and A[left]<A[k]:\n",
        "         s=1\n",
        "     else:\n",
        "         s=k\n",
        "     if right <len(A) and A[right]<A[k]:\n",
        "         s=right\n",
        "     if s!=k:\n",
        "         A[k] , A[s] = A[s] , A[k]\n",
        "         heapify(A,s)\n",
        "\n",
        "def built_min_heap(A):\n",
        "     n=int((len(A)//2)-1)\n",
        "     for k in range (n,-1,-1):\n",
        "         heapify(A,k)\n",
        "A=[5,6,3,1,4,2,7]\n",
        "built_min_heap(A)\n",
        "print(A)\n",
        "\n",
        "#تمرین\n",
        "#تابع max_heapify برای درخت heap\n",
        "\n",
        "def max_heapify(A,k):\n",
        "    left = 2 * k + 1\n",
        "    right = 2 * k + 2\n",
        "    max = k\n",
        "\n",
        "    if left< len(A) and A[left] > A[max]:\n",
        "        Max = left\n",
        "\n",
        "    if right < len(A) and A[right] > A[max]:\n",
        "        max = right\n",
        "\n",
        "    if max!= k:\n",
        "        A[K], A[max] = A[max], A[k]\n",
        "        max_heapify(A, max)"
      ]
    }
  ]
}